{
 "cells": [
  {
   "cell_type": "code",
   "execution_count": 1,
   "id": "f8f48575",
   "metadata": {
    "_cell_guid": "b1076dfc-b9ad-4769-8c92-a6c4dae69d19",
    "_uuid": "8f2839f25d086af736a60e9eeb907d3b93b6e0e5",
    "execution": {
     "iopub.execute_input": "2024-06-01T14:38:07.394775Z",
     "iopub.status.busy": "2024-06-01T14:38:07.394308Z",
     "iopub.status.idle": "2024-06-01T14:38:08.438735Z",
     "shell.execute_reply": "2024-06-01T14:38:08.437598Z"
    },
    "papermill": {
     "duration": 1.056561,
     "end_time": "2024-06-01T14:38:08.442016",
     "exception": false,
     "start_time": "2024-06-01T14:38:07.385455",
     "status": "completed"
    },
    "tags": []
   },
   "outputs": [
    {
     "name": "stdout",
     "output_type": "stream",
     "text": [
      "/kaggle/input/salaly-prediction-for-beginer/Salary Data.csv\n"
     ]
    }
   ],
   "source": [
    "# This Python 3 environment comes with many helpful analytics libraries installed\n",
    "# It is defined by the kaggle/python Docker image: https://github.com/kaggle/docker-python\n",
    "# For example, here's several helpful packages to load\n",
    "\n",
    "import numpy as np # linear algebra\n",
    "import pandas as pd # data processing, CSV file I/O (e.g. pd.read_csv)\n",
    "\n",
    "# Input data files are available in the read-only \"../input/\" directory\n",
    "# For example, running this (by clicking run or pressing Shift+Enter) will list all files under the input directory\n",
    "\n",
    "import os\n",
    "for dirname, _, filenames in os.walk('/kaggle/input'):\n",
    "    for filename in filenames:\n",
    "        print(os.path.join(dirname, filename))\n",
    "\n",
    "# You can write up to 20GB to the current directory (/kaggle/working/) that gets preserved as output when you create a version using \"Save & Run All\" \n",
    "# You can also write temporary files to /kaggle/temp/, but they won't be saved outside of the current session"
   ]
  },
  {
   "cell_type": "code",
   "execution_count": 2,
   "id": "875842ed",
   "metadata": {
    "execution": {
     "iopub.execute_input": "2024-06-01T14:38:08.457467Z",
     "iopub.status.busy": "2024-06-01T14:38:08.456949Z",
     "iopub.status.idle": "2024-06-01T14:38:10.004664Z",
     "shell.execute_reply": "2024-06-01T14:38:10.002580Z"
    },
    "papermill": {
     "duration": 1.559174,
     "end_time": "2024-06-01T14:38:10.008276",
     "exception": false,
     "start_time": "2024-06-01T14:38:08.449102",
     "status": "completed"
    },
    "tags": []
   },
   "outputs": [],
   "source": [
    "#IMPORTING LIBRARIES\n",
    "\n",
    "import pandas as pd\n",
    "import numpy as np\n",
    "import matplotlib.pyplot as plt\n",
    "import seaborn as sns"
   ]
  },
  {
   "cell_type": "code",
   "execution_count": 3,
   "id": "c40cf797",
   "metadata": {
    "execution": {
     "iopub.execute_input": "2024-06-01T14:38:10.024151Z",
     "iopub.status.busy": "2024-06-01T14:38:10.023629Z",
     "iopub.status.idle": "2024-06-01T14:38:10.081354Z",
     "shell.execute_reply": "2024-06-01T14:38:10.079623Z"
    },
    "papermill": {
     "duration": 0.06933,
     "end_time": "2024-06-01T14:38:10.084558",
     "exception": false,
     "start_time": "2024-06-01T14:38:10.015228",
     "status": "completed"
    },
    "tags": []
   },
   "outputs": [
    {
     "data": {
      "text/html": [
       "<div>\n",
       "<style scoped>\n",
       "    .dataframe tbody tr th:only-of-type {\n",
       "        vertical-align: middle;\n",
       "    }\n",
       "\n",
       "    .dataframe tbody tr th {\n",
       "        vertical-align: top;\n",
       "    }\n",
       "\n",
       "    .dataframe thead th {\n",
       "        text-align: right;\n",
       "    }\n",
       "</style>\n",
       "<table border=\"1\" class=\"dataframe\">\n",
       "  <thead>\n",
       "    <tr style=\"text-align: right;\">\n",
       "      <th></th>\n",
       "      <th>Age</th>\n",
       "      <th>Gender</th>\n",
       "      <th>Education Level</th>\n",
       "      <th>Job Title</th>\n",
       "      <th>Years of Experience</th>\n",
       "      <th>Salary</th>\n",
       "    </tr>\n",
       "  </thead>\n",
       "  <tbody>\n",
       "    <tr>\n",
       "      <th>0</th>\n",
       "      <td>32.0</td>\n",
       "      <td>Male</td>\n",
       "      <td>Bachelor's</td>\n",
       "      <td>Software Engineer</td>\n",
       "      <td>5.0</td>\n",
       "      <td>90000.0</td>\n",
       "    </tr>\n",
       "    <tr>\n",
       "      <th>1</th>\n",
       "      <td>28.0</td>\n",
       "      <td>Female</td>\n",
       "      <td>Master's</td>\n",
       "      <td>Data Analyst</td>\n",
       "      <td>3.0</td>\n",
       "      <td>65000.0</td>\n",
       "    </tr>\n",
       "    <tr>\n",
       "      <th>2</th>\n",
       "      <td>45.0</td>\n",
       "      <td>Male</td>\n",
       "      <td>PhD</td>\n",
       "      <td>Senior Manager</td>\n",
       "      <td>15.0</td>\n",
       "      <td>150000.0</td>\n",
       "    </tr>\n",
       "    <tr>\n",
       "      <th>3</th>\n",
       "      <td>36.0</td>\n",
       "      <td>Female</td>\n",
       "      <td>Bachelor's</td>\n",
       "      <td>Sales Associate</td>\n",
       "      <td>7.0</td>\n",
       "      <td>60000.0</td>\n",
       "    </tr>\n",
       "    <tr>\n",
       "      <th>4</th>\n",
       "      <td>52.0</td>\n",
       "      <td>Male</td>\n",
       "      <td>Master's</td>\n",
       "      <td>Director</td>\n",
       "      <td>20.0</td>\n",
       "      <td>200000.0</td>\n",
       "    </tr>\n",
       "  </tbody>\n",
       "</table>\n",
       "</div>"
      ],
      "text/plain": [
       "    Age  Gender Education Level          Job Title  Years of Experience  \\\n",
       "0  32.0    Male      Bachelor's  Software Engineer                  5.0   \n",
       "1  28.0  Female        Master's       Data Analyst                  3.0   \n",
       "2  45.0    Male             PhD     Senior Manager                 15.0   \n",
       "3  36.0  Female      Bachelor's    Sales Associate                  7.0   \n",
       "4  52.0    Male        Master's           Director                 20.0   \n",
       "\n",
       "     Salary  \n",
       "0   90000.0  \n",
       "1   65000.0  \n",
       "2  150000.0  \n",
       "3   60000.0  \n",
       "4  200000.0  "
      ]
     },
     "execution_count": 3,
     "metadata": {},
     "output_type": "execute_result"
    }
   ],
   "source": [
    "dataset = pd.read_csv(\"/kaggle/input/salaly-prediction-for-beginer/Salary Data.csv\")\n",
    "dataset.head()"
   ]
  },
  {
   "cell_type": "code",
   "execution_count": 4,
   "id": "c6aeab26",
   "metadata": {
    "execution": {
     "iopub.execute_input": "2024-06-01T14:38:10.101012Z",
     "iopub.status.busy": "2024-06-01T14:38:10.100598Z",
     "iopub.status.idle": "2024-06-01T14:38:10.112296Z",
     "shell.execute_reply": "2024-06-01T14:38:10.111021Z"
    },
    "papermill": {
     "duration": 0.023163,
     "end_time": "2024-06-01T14:38:10.114942",
     "exception": false,
     "start_time": "2024-06-01T14:38:10.091779",
     "status": "completed"
    },
    "tags": []
   },
   "outputs": [
    {
     "data": {
      "text/plain": [
       "Age                    2\n",
       "Gender                 2\n",
       "Education Level        2\n",
       "Job Title              2\n",
       "Years of Experience    2\n",
       "Salary                 2\n",
       "dtype: int64"
      ]
     },
     "execution_count": 4,
     "metadata": {},
     "output_type": "execute_result"
    }
   ],
   "source": [
    "dataset.isnull().sum()"
   ]
  },
  {
   "cell_type": "code",
   "execution_count": 5,
   "id": "3bdc6737",
   "metadata": {
    "execution": {
     "iopub.execute_input": "2024-06-01T14:38:10.132321Z",
     "iopub.status.busy": "2024-06-01T14:38:10.131719Z",
     "iopub.status.idle": "2024-06-01T14:38:10.167326Z",
     "shell.execute_reply": "2024-06-01T14:38:10.165064Z"
    },
    "papermill": {
     "duration": 0.048896,
     "end_time": "2024-06-01T14:38:10.170926",
     "exception": false,
     "start_time": "2024-06-01T14:38:10.122030",
     "status": "completed"
    },
    "tags": []
   },
   "outputs": [
    {
     "name": "stdout",
     "output_type": "stream",
     "text": [
      "<class 'pandas.core.frame.DataFrame'>\n",
      "RangeIndex: 375 entries, 0 to 374\n",
      "Data columns (total 6 columns):\n",
      " #   Column               Non-Null Count  Dtype  \n",
      "---  ------               --------------  -----  \n",
      " 0   Age                  373 non-null    float64\n",
      " 1   Gender               373 non-null    object \n",
      " 2   Education Level      373 non-null    object \n",
      " 3   Job Title            373 non-null    object \n",
      " 4   Years of Experience  373 non-null    float64\n",
      " 5   Salary               373 non-null    float64\n",
      "dtypes: float64(3), object(3)\n",
      "memory usage: 17.7+ KB\n"
     ]
    }
   ],
   "source": [
    "dataset.info()"
   ]
  },
  {
   "cell_type": "code",
   "execution_count": 6,
   "id": "24347bc7",
   "metadata": {
    "execution": {
     "iopub.execute_input": "2024-06-01T14:38:10.188107Z",
     "iopub.status.busy": "2024-06-01T14:38:10.187638Z",
     "iopub.status.idle": "2024-06-01T14:38:10.201217Z",
     "shell.execute_reply": "2024-06-01T14:38:10.199636Z"
    },
    "papermill": {
     "duration": 0.025593,
     "end_time": "2024-06-01T14:38:10.204074",
     "exception": false,
     "start_time": "2024-06-01T14:38:10.178481",
     "status": "completed"
    },
    "tags": []
   },
   "outputs": [],
   "source": [
    "dataset.dropna(inplace=True)"
   ]
  },
  {
   "cell_type": "code",
   "execution_count": 7,
   "id": "1813bc2b",
   "metadata": {
    "execution": {
     "iopub.execute_input": "2024-06-01T14:38:10.220583Z",
     "iopub.status.busy": "2024-06-01T14:38:10.220128Z",
     "iopub.status.idle": "2024-06-01T14:38:10.230787Z",
     "shell.execute_reply": "2024-06-01T14:38:10.229234Z"
    },
    "papermill": {
     "duration": 0.022515,
     "end_time": "2024-06-01T14:38:10.233912",
     "exception": false,
     "start_time": "2024-06-01T14:38:10.211397",
     "status": "completed"
    },
    "tags": []
   },
   "outputs": [
    {
     "data": {
      "text/plain": [
       "Age                    0\n",
       "Gender                 0\n",
       "Education Level        0\n",
       "Job Title              0\n",
       "Years of Experience    0\n",
       "Salary                 0\n",
       "dtype: int64"
      ]
     },
     "execution_count": 7,
     "metadata": {},
     "output_type": "execute_result"
    }
   ],
   "source": [
    "dataset.isnull().sum()"
   ]
  },
  {
   "cell_type": "code",
   "execution_count": 8,
   "id": "13d13455",
   "metadata": {
    "execution": {
     "iopub.execute_input": "2024-06-01T14:38:10.250408Z",
     "iopub.status.busy": "2024-06-01T14:38:10.249958Z",
     "iopub.status.idle": "2024-06-01T14:38:10.260294Z",
     "shell.execute_reply": "2024-06-01T14:38:10.258788Z"
    },
    "papermill": {
     "duration": 0.021748,
     "end_time": "2024-06-01T14:38:10.262882",
     "exception": false,
     "start_time": "2024-06-01T14:38:10.241134",
     "status": "completed"
    },
    "tags": []
   },
   "outputs": [],
   "source": [
    "dataset.drop(columns=['Gender','Age','Job Title'], axis=1, inplace=True)"
   ]
  },
  {
   "cell_type": "code",
   "execution_count": 9,
   "id": "147942ef",
   "metadata": {
    "execution": {
     "iopub.execute_input": "2024-06-01T14:38:10.280613Z",
     "iopub.status.busy": "2024-06-01T14:38:10.280140Z",
     "iopub.status.idle": "2024-06-01T14:38:10.295810Z",
     "shell.execute_reply": "2024-06-01T14:38:10.294204Z"
    },
    "papermill": {
     "duration": 0.028403,
     "end_time": "2024-06-01T14:38:10.298837",
     "exception": false,
     "start_time": "2024-06-01T14:38:10.270434",
     "status": "completed"
    },
    "tags": []
   },
   "outputs": [
    {
     "data": {
      "text/html": [
       "<div>\n",
       "<style scoped>\n",
       "    .dataframe tbody tr th:only-of-type {\n",
       "        vertical-align: middle;\n",
       "    }\n",
       "\n",
       "    .dataframe tbody tr th {\n",
       "        vertical-align: top;\n",
       "    }\n",
       "\n",
       "    .dataframe thead th {\n",
       "        text-align: right;\n",
       "    }\n",
       "</style>\n",
       "<table border=\"1\" class=\"dataframe\">\n",
       "  <thead>\n",
       "    <tr style=\"text-align: right;\">\n",
       "      <th></th>\n",
       "      <th>Education Level</th>\n",
       "      <th>Years of Experience</th>\n",
       "      <th>Salary</th>\n",
       "    </tr>\n",
       "  </thead>\n",
       "  <tbody>\n",
       "    <tr>\n",
       "      <th>0</th>\n",
       "      <td>Bachelor's</td>\n",
       "      <td>5.0</td>\n",
       "      <td>90000.0</td>\n",
       "    </tr>\n",
       "    <tr>\n",
       "      <th>1</th>\n",
       "      <td>Master's</td>\n",
       "      <td>3.0</td>\n",
       "      <td>65000.0</td>\n",
       "    </tr>\n",
       "    <tr>\n",
       "      <th>2</th>\n",
       "      <td>PhD</td>\n",
       "      <td>15.0</td>\n",
       "      <td>150000.0</td>\n",
       "    </tr>\n",
       "    <tr>\n",
       "      <th>3</th>\n",
       "      <td>Bachelor's</td>\n",
       "      <td>7.0</td>\n",
       "      <td>60000.0</td>\n",
       "    </tr>\n",
       "    <tr>\n",
       "      <th>4</th>\n",
       "      <td>Master's</td>\n",
       "      <td>20.0</td>\n",
       "      <td>200000.0</td>\n",
       "    </tr>\n",
       "  </tbody>\n",
       "</table>\n",
       "</div>"
      ],
      "text/plain": [
       "  Education Level  Years of Experience    Salary\n",
       "0      Bachelor's                  5.0   90000.0\n",
       "1        Master's                  3.0   65000.0\n",
       "2             PhD                 15.0  150000.0\n",
       "3      Bachelor's                  7.0   60000.0\n",
       "4        Master's                 20.0  200000.0"
      ]
     },
     "execution_count": 9,
     "metadata": {},
     "output_type": "execute_result"
    }
   ],
   "source": [
    "dataset.head()"
   ]
  },
  {
   "cell_type": "code",
   "execution_count": 10,
   "id": "fdcf4257",
   "metadata": {
    "execution": {
     "iopub.execute_input": "2024-06-01T14:38:10.319049Z",
     "iopub.status.busy": "2024-06-01T14:38:10.318069Z",
     "iopub.status.idle": "2024-06-01T14:38:10.327752Z",
     "shell.execute_reply": "2024-06-01T14:38:10.326439Z"
    },
    "papermill": {
     "duration": 0.02401,
     "end_time": "2024-06-01T14:38:10.330699",
     "exception": false,
     "start_time": "2024-06-01T14:38:10.306689",
     "status": "completed"
    },
    "tags": []
   },
   "outputs": [
    {
     "data": {
      "text/plain": [
       "array([\"Bachelor's\", \"Master's\", 'PhD'], dtype=object)"
      ]
     },
     "execution_count": 10,
     "metadata": {},
     "output_type": "execute_result"
    }
   ],
   "source": [
    "dataset['Education Level'].unique()"
   ]
  },
  {
   "cell_type": "code",
   "execution_count": 11,
   "id": "c8a71bb4",
   "metadata": {
    "execution": {
     "iopub.execute_input": "2024-06-01T14:38:10.349701Z",
     "iopub.status.busy": "2024-06-01T14:38:10.349276Z",
     "iopub.status.idle": "2024-06-01T14:38:10.615078Z",
     "shell.execute_reply": "2024-06-01T14:38:10.613925Z"
    },
    "papermill": {
     "duration": 0.279758,
     "end_time": "2024-06-01T14:38:10.618521",
     "exception": false,
     "start_time": "2024-06-01T14:38:10.338763",
     "status": "completed"
    },
    "tags": []
   },
   "outputs": [],
   "source": [
    "from sklearn.preprocessing import LabelEncoder\n",
    "le = LabelEncoder()\n",
    "dataset['Education Level'] = le.fit_transform(dataset['Education Level'])"
   ]
  },
  {
   "cell_type": "code",
   "execution_count": 12,
   "id": "3d2b80c8",
   "metadata": {
    "execution": {
     "iopub.execute_input": "2024-06-01T14:38:10.637714Z",
     "iopub.status.busy": "2024-06-01T14:38:10.637214Z",
     "iopub.status.idle": "2024-06-01T14:38:10.651582Z",
     "shell.execute_reply": "2024-06-01T14:38:10.650237Z"
    },
    "papermill": {
     "duration": 0.027897,
     "end_time": "2024-06-01T14:38:10.654633",
     "exception": false,
     "start_time": "2024-06-01T14:38:10.626736",
     "status": "completed"
    },
    "tags": []
   },
   "outputs": [
    {
     "data": {
      "text/html": [
       "<div>\n",
       "<style scoped>\n",
       "    .dataframe tbody tr th:only-of-type {\n",
       "        vertical-align: middle;\n",
       "    }\n",
       "\n",
       "    .dataframe tbody tr th {\n",
       "        vertical-align: top;\n",
       "    }\n",
       "\n",
       "    .dataframe thead th {\n",
       "        text-align: right;\n",
       "    }\n",
       "</style>\n",
       "<table border=\"1\" class=\"dataframe\">\n",
       "  <thead>\n",
       "    <tr style=\"text-align: right;\">\n",
       "      <th></th>\n",
       "      <th>Education Level</th>\n",
       "      <th>Years of Experience</th>\n",
       "      <th>Salary</th>\n",
       "    </tr>\n",
       "  </thead>\n",
       "  <tbody>\n",
       "    <tr>\n",
       "      <th>0</th>\n",
       "      <td>0</td>\n",
       "      <td>5.0</td>\n",
       "      <td>90000.0</td>\n",
       "    </tr>\n",
       "    <tr>\n",
       "      <th>1</th>\n",
       "      <td>1</td>\n",
       "      <td>3.0</td>\n",
       "      <td>65000.0</td>\n",
       "    </tr>\n",
       "    <tr>\n",
       "      <th>2</th>\n",
       "      <td>2</td>\n",
       "      <td>15.0</td>\n",
       "      <td>150000.0</td>\n",
       "    </tr>\n",
       "    <tr>\n",
       "      <th>3</th>\n",
       "      <td>0</td>\n",
       "      <td>7.0</td>\n",
       "      <td>60000.0</td>\n",
       "    </tr>\n",
       "    <tr>\n",
       "      <th>4</th>\n",
       "      <td>1</td>\n",
       "      <td>20.0</td>\n",
       "      <td>200000.0</td>\n",
       "    </tr>\n",
       "  </tbody>\n",
       "</table>\n",
       "</div>"
      ],
      "text/plain": [
       "   Education Level  Years of Experience    Salary\n",
       "0                0                  5.0   90000.0\n",
       "1                1                  3.0   65000.0\n",
       "2                2                 15.0  150000.0\n",
       "3                0                  7.0   60000.0\n",
       "4                1                 20.0  200000.0"
      ]
     },
     "execution_count": 12,
     "metadata": {},
     "output_type": "execute_result"
    }
   ],
   "source": [
    "dataset.head()"
   ]
  },
  {
   "cell_type": "code",
   "execution_count": 13,
   "id": "66e32210",
   "metadata": {
    "execution": {
     "iopub.execute_input": "2024-06-01T14:38:10.673036Z",
     "iopub.status.busy": "2024-06-01T14:38:10.672606Z",
     "iopub.status.idle": "2024-06-01T14:38:10.803336Z",
     "shell.execute_reply": "2024-06-01T14:38:10.801994Z"
    },
    "papermill": {
     "duration": 0.143711,
     "end_time": "2024-06-01T14:38:10.806681",
     "exception": false,
     "start_time": "2024-06-01T14:38:10.662970",
     "status": "completed"
    },
    "tags": []
   },
   "outputs": [
    {
     "name": "stdout",
     "output_type": "stream",
     "text": [
      "(298, 2)\n",
      "(298,)\n",
      "(75, 2)\n",
      "(75,)\n"
     ]
    }
   ],
   "source": [
    "from sklearn.model_selection import train_test_split\n",
    "x = dataset.iloc[:,:-1].values\n",
    "y = dataset.iloc[:,-1].values\n",
    "\n",
    "xtrain, xtest, ytrain, ytest = train_test_split(x, y, test_size=0.2, random_state=101)\n",
    "print(xtrain.shape)\n",
    "print(ytrain.shape)\n",
    "print(xtest.shape)\n",
    "print(ytest.shape)"
   ]
  },
  {
   "cell_type": "code",
   "execution_count": 14,
   "id": "e3937c55",
   "metadata": {
    "execution": {
     "iopub.execute_input": "2024-06-01T14:38:10.825327Z",
     "iopub.status.busy": "2024-06-01T14:38:10.824911Z",
     "iopub.status.idle": "2024-06-01T14:38:10.960367Z",
     "shell.execute_reply": "2024-06-01T14:38:10.958866Z"
    },
    "papermill": {
     "duration": 0.148395,
     "end_time": "2024-06-01T14:38:10.963672",
     "exception": false,
     "start_time": "2024-06-01T14:38:10.815277",
     "status": "completed"
    },
    "tags": []
   },
   "outputs": [],
   "source": [
    "from sklearn.linear_model import LinearRegression\n",
    "lr = LinearRegression()\n",
    "lr.fit(xtrain, ytrain)\n",
    "y_pred = lr.predict(xtest)"
   ]
  },
  {
   "cell_type": "code",
   "execution_count": 15,
   "id": "d0c8dbf1",
   "metadata": {
    "execution": {
     "iopub.execute_input": "2024-06-01T14:38:10.982363Z",
     "iopub.status.busy": "2024-06-01T14:38:10.981899Z",
     "iopub.status.idle": "2024-06-01T14:38:10.995975Z",
     "shell.execute_reply": "2024-06-01T14:38:10.994766Z"
    },
    "papermill": {
     "duration": 0.026633,
     "end_time": "2024-06-01T14:38:10.998680",
     "exception": false,
     "start_time": "2024-06-01T14:38:10.972047",
     "status": "completed"
    },
    "tags": []
   },
   "outputs": [
    {
     "data": {
      "text/html": [
       "<div>\n",
       "<style scoped>\n",
       "    .dataframe tbody tr th:only-of-type {\n",
       "        vertical-align: middle;\n",
       "    }\n",
       "\n",
       "    .dataframe tbody tr th {\n",
       "        vertical-align: top;\n",
       "    }\n",
       "\n",
       "    .dataframe thead th {\n",
       "        text-align: right;\n",
       "    }\n",
       "</style>\n",
       "<table border=\"1\" class=\"dataframe\">\n",
       "  <thead>\n",
       "    <tr style=\"text-align: right;\">\n",
       "      <th></th>\n",
       "      <th>actual</th>\n",
       "    </tr>\n",
       "  </thead>\n",
       "  <tbody>\n",
       "    <tr>\n",
       "      <th>100780.180730</th>\n",
       "      <td>105000.0</td>\n",
       "    </tr>\n",
       "    <tr>\n",
       "      <th>40393.886143</th>\n",
       "      <td>40000.0</td>\n",
       "    </tr>\n",
       "    <tr>\n",
       "      <th>69930.921823</th>\n",
       "      <td>55000.0</td>\n",
       "    </tr>\n",
       "    <tr>\n",
       "      <th>58116.107551</th>\n",
       "      <td>50000.0</td>\n",
       "    </tr>\n",
       "    <tr>\n",
       "      <th>52208.700415</th>\n",
       "      <td>45000.0</td>\n",
       "    </tr>\n",
       "  </tbody>\n",
       "</table>\n",
       "</div>"
      ],
      "text/plain": [
       "                 actual\n",
       "100780.180730  105000.0\n",
       "40393.886143    40000.0\n",
       "69930.921823    55000.0\n",
       "58116.107551    50000.0\n",
       "52208.700415    45000.0"
      ]
     },
     "execution_count": 15,
     "metadata": {},
     "output_type": "execute_result"
    }
   ],
   "source": [
    "result = pd.DataFrame(ytest, y_pred, columns=['actual'])\n",
    "result.head()"
   ]
  },
  {
   "cell_type": "code",
   "execution_count": 16,
   "id": "28d89962",
   "metadata": {
    "execution": {
     "iopub.execute_input": "2024-06-01T14:38:11.019420Z",
     "iopub.status.busy": "2024-06-01T14:38:11.018984Z",
     "iopub.status.idle": "2024-06-01T14:38:11.028919Z",
     "shell.execute_reply": "2024-06-01T14:38:11.027777Z"
    },
    "papermill": {
     "duration": 0.022729,
     "end_time": "2024-06-01T14:38:11.031444",
     "exception": false,
     "start_time": "2024-06-01T14:38:11.008715",
     "status": "completed"
    },
    "tags": []
   },
   "outputs": [
    {
     "name": "stdout",
     "output_type": "stream",
     "text": [
      "MAE:  9268.28366050261\n",
      "MAE%:  0.11014508705412379\n",
      "Accuracy:  88.98549129458762\n"
     ]
    }
   ],
   "source": [
    "from sklearn.metrics import mean_absolute_error, mean_absolute_percentage_error,mean_squared_error\n",
    "print('MAE: ',mean_absolute_error(ytest,y_pred))\n",
    "print('MAE%: ', mean_absolute_percentage_error(ytest,y_pred))\n",
    "print('Accuracy: ', (1-mean_absolute_percentage_error(ytest,y_pred))*100)"
   ]
  },
  {
   "cell_type": "code",
   "execution_count": null,
   "id": "911d39f5",
   "metadata": {
    "papermill": {
     "duration": 0.008434,
     "end_time": "2024-06-01T14:38:11.048767",
     "exception": false,
     "start_time": "2024-06-01T14:38:11.040333",
     "status": "completed"
    },
    "tags": []
   },
   "outputs": [],
   "source": []
  }
 ],
 "metadata": {
  "kaggle": {
   "accelerator": "none",
   "dataSources": [
    {
     "datasetId": 2973025,
     "sourceId": 5119031,
     "sourceType": "datasetVersion"
    }
   ],
   "dockerImageVersionId": 30715,
   "isGpuEnabled": false,
   "isInternetEnabled": true,
   "language": "python",
   "sourceType": "notebook"
  },
  "kernelspec": {
   "display_name": "Python 3",
   "language": "python",
   "name": "python3"
  },
  "language_info": {
   "codemirror_mode": {
    "name": "ipython",
    "version": 3
   },
   "file_extension": ".py",
   "mimetype": "text/x-python",
   "name": "python",
   "nbconvert_exporter": "python",
   "pygments_lexer": "ipython3",
   "version": "3.10.13"
  },
  "papermill": {
   "default_parameters": {},
   "duration": 7.982953,
   "end_time": "2024-06-01T14:38:11.988596",
   "environment_variables": {},
   "exception": null,
   "input_path": "__notebook__.ipynb",
   "output_path": "__notebook__.ipynb",
   "parameters": {},
   "start_time": "2024-06-01T14:38:04.005643",
   "version": "2.5.0"
  }
 },
 "nbformat": 4,
 "nbformat_minor": 5
}
